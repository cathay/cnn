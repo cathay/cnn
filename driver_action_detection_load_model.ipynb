{
  "nbformat": 4,
  "nbformat_minor": 0,
  "metadata": {
    "colab": {
      "name": "driver_action_detection_load_model.ipynb",
      "provenance": [],
      "toc_visible": true,
      "machine_shape": "hm",
      "include_colab_link": true
    },
    "kernelspec": {
      "name": "python3",
      "display_name": "Python 3"
    },
    "accelerator": "GPU"
  },
  "cells": [
    {
      "cell_type": "markdown",
      "metadata": {
        "id": "view-in-github",
        "colab_type": "text"
      },
      "source": [
        "<a href=\"https://colab.research.google.com/github/cathay/cnn/blob/master/driver_action_detection_load_model.ipynb\" target=\"_parent\"><img src=\"https://colab.research.google.com/assets/colab-badge.svg\" alt=\"Open In Colab\"/></a>"
      ]
    },
    {
      "cell_type": "code",
      "metadata": {
        "id": "C66oV53yGuSX",
        "colab_type": "code",
        "colab": {}
      },
      "source": [
        "import os\n",
        "import zipfile\n",
        "import random\n",
        "import tensorflow as tf\n",
        "from shutil import copyfile\n",
        "import pandas as pd\n",
        "import numpy as np\n",
        "import cv2\n",
        "from sklearn.model_selection import train_test_split\n",
        "\n",
        "#Import Google drive functions\n",
        "from pydrive.auth import GoogleAuth\n",
        "from pydrive.drive import GoogleDrive\n",
        "from google.colab import auth\n",
        "from oauth2client.client import GoogleCredentials\n",
        "\n",
        "def get_im_cv2(path, w, h):\n",
        "  img = cv2.imread(path)\n",
        "  resized = cv2.resize(img, (w,h), cv2.INTER_LINEAR) \n",
        "  return resized"
      ],
      "execution_count": 0,
      "outputs": []
    },
    {
      "cell_type": "code",
      "metadata": {
        "id": "2Qgqo4z1Pw9O",
        "colab_type": "code",
        "outputId": "20ddb3f3-dd94-4418-e422-c254a35795ee",
        "colab": {
          "base_uri": "https://localhost:8080/",
          "height": 34
        }
      },
      "source": [
        "from google.colab import drive\n",
        "drive.mount('/content/drive')"
      ],
      "execution_count": 14,
      "outputs": [
        {
          "output_type": "stream",
          "text": [
            "Drive already mounted at /content/drive; to attempt to forcibly remount, call drive.mount(\"/content/drive\", force_remount=True).\n"
          ],
          "name": "stdout"
        }
      ]
    },
    {
      "cell_type": "code",
      "metadata": {
        "id": "X9zNaONpaNHB",
        "colab_type": "code",
        "outputId": "17daa551-69ac-49a7-e1b6-de1667d3789b",
        "colab": {
          "base_uri": "https://localhost:8080/",
          "height": 54
        }
      },
      "source": [
        "import shutil\n",
        "from tensorflow import keras\n",
        "DRIVE_PATH = '/content/drive/My Drive/ELD/Driver distraction/'\n",
        "shutil.copyfile(DRIVE_PATH + 'eroad_driver_detection_resnet_20_epoch.h5', 'eroad_driver_detection_resnet_20_epoch.h5')\n",
        "model = keras.models.load_model('eroad_driver_detection_resnet_20_epoch.h5')\n"
      ],
      "execution_count": 15,
      "outputs": [
        {
          "output_type": "stream",
          "text": [
            "WARNING:tensorflow:Error in loading the saved optimizer state. As a result, your model is starting with a freshly initialized optimizer.\n"
          ],
          "name": "stdout"
        }
      ]
    },
    {
      "cell_type": "code",
      "metadata": {
        "id": "Tue_QFH6P7OW",
        "colab_type": "code",
        "colab": {}
      },
      "source": [
        "model.summary()"
      ],
      "execution_count": 0,
      "outputs": []
    },
    {
      "cell_type": "code",
      "metadata": {
        "id": "CX47V4P2hyuN",
        "colab_type": "code",
        "colab": {}
      },
      "source": [
        "import shutil\n",
        "DRIVE_PATH = '/content/drive/My Drive/colab/'\n",
        "TEST_FILE = 'predict0.zip'\n",
        "TEST_DATA_PARENT_FOLDER = 'tmp/test'\n",
        "\n",
        "shutil.copyfile(DRIVE_PATH + TEST_FILE, TEST_FILE)\n",
        "\n",
        "if os.path.exists(TEST_DATA_PARENT_FOLDER):\n",
        "  shutil.rmtree(TEST_DATA_PARENT_FOLDER)\n",
        "\n",
        "zip_ref = zipfile.ZipFile(TEST_FILE, 'r')\n",
        "zip_ref.extractall(TEST_DATA_PARENT_FOLDER)\n",
        "zip_ref.close()"
      ],
      "execution_count": 0,
      "outputs": []
    },
    {
      "cell_type": "code",
      "metadata": {
        "id": "TDFEf3h4Ru6M",
        "colab_type": "code",
        "colab": {}
      },
      "source": [
        "IMAGE_WIDTH=224\n",
        "IMAGE_HEIGHT=224\n",
        "IMAGE_SIZE=(IMAGE_WIDTH, IMAGE_HEIGHT)\n",
        "IMAGE_CHANNELS=3\n",
        "\n",
        "TEST_DATA_FOLDER = 'tmp/test/predict0/c0'\n",
        "files = []\n",
        "for file in os.listdir(TEST_DATA_FOLDER):\n",
        "    if file.endswith(\".jpg\"):\n",
        "        files.append(file)\n",
        "\n",
        "test_data = pd.DataFrame({'filename': files})\n",
        "#test_data_frame = test_data.sample(20, axis=None)\n",
        "#test_data['path'] = test_data['filename'].map(lambda file: TEST_DATA_FOLDER + \"/\" + file)\n",
        "test_data['X'] = test_data['filename'].map(lambda file: get_im_cv2(TEST_DATA_FOLDER + \"/\" + file, IMAGE_WIDTH, IMAGE_HEIGHT))\n",
        "\n",
        "x_perf=[]\n",
        "for item in test_data['X']:\n",
        "  x_perf.append(item)\n",
        "\n",
        "x_perf = np.array(x_perf, dtype=np.uint8)\n",
        "predict_df = model.predict(x_perf)"
      ],
      "execution_count": 0,
      "outputs": []
    },
    {
      "cell_type": "code",
      "metadata": {
        "id": "zJ10zG10UUA2",
        "colab_type": "code",
        "colab": {}
      },
      "source": [
        "label_map = {\n",
        "    0: \"normal driving\",\n",
        "    1: \"texting - right\",\n",
        "    2: \"talking on the phone - right\",\n",
        "    3: \"texting - left\",\n",
        "    4: \"talking on the phone - left\",\n",
        "    5: \"operating the radio\",\n",
        "    6: \"drinking\",\n",
        "    7: \"reaching behind\",\n",
        "    8: \"hair and makeup\",\n",
        "    9: \"talking to passenger\"\n",
        "}\n",
        "\n",
        "test_data['category'] = np.argmax(predict_df, axis=1)\n",
        "test_data['action'] = test_data['category'].map(lambda x: label_map.get(x))\n",
        "\n",
        "print(len(files))\n",
        "print(test_data[test_data['category'] ==0].shape)\n",
        "print(test_data[test_data['category'] !=0].shape)\n",
        "#with pd.option_context('display.max_rows', None, 'display.max_columns', None):  # more options can be specified also\n",
        " #   print(test_data[test_data['category'] !=0].head())"
      ],
      "execution_count": 0,
      "outputs": []
    },
    {
      "cell_type": "code",
      "metadata": {
        "id": "iJsbiMuSZYVB",
        "colab_type": "code",
        "colab": {}
      },
      "source": [
        "from keras.preprocessing.image import load_img\n",
        "import matplotlib.pyplot as plt\n",
        "\n",
        "sample_test = test_data[test_data['category'] !=0][20:30]\n",
        "plt.figure(figsize=(12, 24))\n",
        "index=0\n",
        "for _, row in sample_test.iterrows():\n",
        "    filename = row['filename']\n",
        "    category = row['action']\n",
        "    index=index+1\n",
        "    img = load_img(TEST_DIRECTORY+\"/c0/\"+filename, target_size=IMAGE_SIZE)\n",
        "    plt.subplot(6, 3, index)\n",
        "    plt.imshow(img)\n",
        "    plt.xlabel(filename + '(' + \"{}\".format(category) + ')' )\n",
        "plt.tight_layout()\n",
        "plt.show()"
      ],
      "execution_count": 0,
      "outputs": []
    },
    {
      "cell_type": "code",
      "metadata": {
        "id": "A6ITS_NcmJv2",
        "colab_type": "code",
        "colab": {}
      },
      "source": [
        "#Copy prediction file to G-drive\n",
        "import shutil\n",
        "CATEGORY_PATH='tmp/predict' + str(index)\n",
        "if os.path.exists(CATEGORY_PATH):\n",
        "  shutil.rmtree(CATEGORY_PATH)\n",
        "#print(test_data.head())\n",
        "if not os.path.exists(CATEGORY_PATH):\n",
        "  os.mkdir(CATEGORY_PATH)\n",
        "  for i in range(10):\n",
        "    os.mkdir(\"%s/c%s\"% (CATEGORY_PATH,str(i)))\n",
        "\n",
        "test_data['category'] = np.argmax(predict_df, axis=1)\n",
        "for _, row in test_data.iterrows():\n",
        "  #print(row['category'])\n",
        "  #print(str(row['category']))\n",
        "  shutil.copyfile(TEST_DIRECTORY + \"/\" + row['filename'], CATEGORY_PATH + \"/\" + 'c' + str(row['category']) + \"/\" + row['filename'])\n",
        "\n",
        "ZIP_FILE_NAME='predict' + str(index)\n",
        "shutil.make_archive(ZIP_FILE_NAME, 'zip', CATEGORY_PATH)\n",
        "shutil.copyfile(ZIP_FILE_NAME +'.zip','/content/drive/My Drive/colab/' + ZIP_FILE_NAME + '.zip')"
      ],
      "execution_count": 0,
      "outputs": []
    },
    {
      "cell_type": "code",
      "metadata": {
        "id": "nYrH-qI0sjXD",
        "colab_type": "code",
        "colab": {}
      },
      "source": [
        ""
      ],
      "execution_count": 0,
      "outputs": []
    },
    {
      "cell_type": "code",
      "metadata": {
        "id": "qtk8tf_IBo7v",
        "colab_type": "code",
        "colab": {}
      },
      "source": [
        ""
      ],
      "execution_count": 0,
      "outputs": []
    }
  ]
}