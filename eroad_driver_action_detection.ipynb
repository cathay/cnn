{
  "nbformat": 4,
  "nbformat_minor": 0,
  "metadata": {
    "colab": {
      "name": "eroad_driver_action_detection.ipynb",
      "provenance": [],
      "collapsed_sections": [],
      "toc_visible": true,
      "authorship_tag": "ABX9TyNQcIAH7QF7k2nWxAQ2YJ2o",
      "include_colab_link": true
    },
    "kernelspec": {
      "name": "python3",
      "display_name": "Python 3"
    },
    "accelerator": "GPU"
  },
  "cells": [
    {
      "cell_type": "markdown",
      "metadata": {
        "id": "view-in-github",
        "colab_type": "text"
      },
      "source": [
        "<a href=\"https://colab.research.google.com/github/cathay/cnn/blob/master/eroad_driver_action_detection.ipynb\" target=\"_parent\"><img src=\"https://colab.research.google.com/assets/colab-badge.svg\" alt=\"Open In Colab\"/></a>"
      ]
    },
    {
      "cell_type": "code",
      "metadata": {
        "id": "0V7gtDzj3SbC",
        "colab_type": "code",
        "outputId": "5a342678-7f26-4a66-eefc-15fa27784b57",
        "colab": {
          "base_uri": "https://localhost:8080/",
          "height": 51
        }
      },
      "source": [
        "import os\n",
        "import zipfile\n",
        "import random\n",
        "import tensorflow as tf\n",
        "from shutil import copyfile\n",
        "import pandas as pd\n",
        "import numpy as np\n",
        "import cv2\n",
        "from sklearn.model_selection import train_test_split\n",
        "\n",
        "#Import Google drive functions\n",
        "from pydrive.auth import GoogleAuth\n",
        "from pydrive.drive import GoogleDrive\n",
        "from google.colab import auth\n",
        "from oauth2client.client import GoogleCredentials\n",
        "\n",
        "from google.colab import drive\n",
        "drive.mount('/content/drive')"
      ],
      "execution_count": 3,
      "outputs": [
        {
          "output_type": "stream",
          "text": [
            "Drive already mounted at /content/drive; to attempt to forcibly remount, call drive.mount(\"/content/drive\", force_remount=True).\n",
            "Drive already mounted at /content/drive; to attempt to forcibly remount, call drive.mount(\"/content/drive\", force_remount=True).\n"
          ],
          "name": "stdout"
        }
      ]
    },
    {
      "cell_type": "code",
      "metadata": {
        "id": "5LfaxDQkbLQb",
        "colab_type": "code",
        "colab": {}
      },
      "source": [
        "import shutil\n",
        "shutil.rmtree('tmp')"
      ],
      "execution_count": 0,
      "outputs": []
    },
    {
      "cell_type": "code",
      "metadata": {
        "id": "mrQlkXh43lfu",
        "colab_type": "code",
        "colab": {}
      },
      "source": [
        "import shutil\n",
        "DRIVE_PATH = '/content/drive/My Drive/colab/'\n",
        "TRAIN_FILE = 'Thay_data_table.zip'\n",
        "\n",
        "shutil.copyfile(DRIVE_PATH + TRAIN_FILE, TRAIN_FILE)\n",
        "\n",
        "zip_ref = zipfile.ZipFile('Thay_data_table.zip', 'r')\n",
        "zip_ref.extractall('tmp')\n",
        "zip_ref.close()"
      ],
      "execution_count": 0,
      "outputs": []
    },
    {
      "cell_type": "code",
      "metadata": {
        "id": "pK5wiEKC3oFm",
        "colab_type": "code",
        "colab": {
          "base_uri": "https://localhost:8080/",
          "height": 34
        },
        "outputId": "9763bd97-676a-4fcb-803d-d9094a8f4274"
      },
      "source": [
        "from keras.utils import to_categorical\n",
        "import imutils\n",
        "import os.path\n",
        "\n",
        "TRAINING_DIR = 'tmp/Thay_data'\n",
        "IMAGE_WIDTH=224\n",
        "IMAGE_HEIGHT=224\n",
        "IMAGE_SIZE=(IMAGE_WIDTH, IMAGE_HEIGHT)\n",
        "IMAGE_CHANNELS=3\n",
        "\n",
        "def get_im_cv2(path, w, h):\n",
        "  return cv2.imread(path)\n",
        "  #return cv2.resize(img, (w,h), cv2.INTER_LINEAR) \n",
        "\n",
        "def get_center_roi(frame):\n",
        "    # get the Region of Interest (y,y)\n",
        "    height, width, channel = frame.shape\n",
        "    midpoint_x = int(width / 2.0)\n",
        "    midpoint_y = int(height / 2.0)\n",
        "    left_x = midpoint_x - midpoint_y\n",
        "    cropped = frame[0:height, left_x:width - left_x]\n",
        "    return cropped\n",
        "\n",
        "def to_resenet_input(path):\n",
        "  img = cv2.imread(path)\n",
        "  img = get_center_roi(img)\n",
        "  return imutils.resize(img, width=IMAGE_WIDTH, height=IMAGE_HEIGHT)\n",
        "\n",
        "files = []\n",
        "categories = []\n",
        "paths = []\n",
        "\n",
        "actions = {\n",
        "    'normal' : 0,\n",
        "    'drinking': 1,\n",
        "    'phone_left' : 2,\n",
        "    'phone_right' : 3,\n",
        "    'text_left': 4,\n",
        "    'text_right': 5\n",
        "    #'tao_lao' : 6\n",
        "}\n",
        "\n",
        "NUM_CLASSESS = len(actions.keys())\n",
        "\n",
        "#Should add class 0\n",
        "for i in range(1,4):\n",
        "  for dir_name in actions.keys():\n",
        "    # Lỗi kỹ thuật :)\n",
        "    dir_path = \"%s_%s/%s.mov\" % (TRAINING_DIR, i, dir_name)\n",
        "    if os.path.exists(dir_path) == True:\n",
        "      for file in os.listdir(dir_path):\n",
        "        if file.endswith('jpg'): #('.png', '.jpg', '.jpeg')\n",
        "          files.append(file)\n",
        "          categories.append(actions.get(dir_name))\n",
        "          paths.append(\"%s/%s\" %(dir_path, file))\n",
        "\n",
        "df = pd.DataFrame({'file': files,\n",
        "                   'category': categories,\n",
        "                   'path': paths\n",
        "                  })\n",
        "\n",
        "df['Y'] = df['category'].map(lambda x: to_categorical(x, NUM_CLASSESS, dtype='uint8'))\n",
        "#df['X'] = df['path'].map(lambda file: to_resenet_input(file))\n",
        "df['X'] = df['path'].map(lambda file: get_im_cv2(file, IMAGE_WIDTH, IMAGE_HEIGHT))\n",
        "#df.size\n",
        "print(\"files:%s, paths size: %s, df[X]size: %s\" % (len(files), len(paths), df['X'].size))\n",
        "#df.sample(20, axis=None)"
      ],
      "execution_count": 27,
      "outputs": [
        {
          "output_type": "stream",
          "text": [
            "files:1773, paths size: 1773, df[X]size: 1773\n"
          ],
          "name": "stdout"
        }
      ]
    },
    {
      "cell_type": "code",
      "metadata": {
        "id": "sJpwW0rc9Eo6",
        "colab_type": "code",
        "colab": {}
      },
      "source": [
        "from keras.preprocessing.image import ImageDataGenerator\n",
        "train_df, validate_df = train_test_split(df, test_size=0.20, random_state=42)\n",
        "train_df = train_df.reset_index(drop=True)\n",
        "validate_df = validate_df.reset_index(drop=True)\n",
        "\n",
        "x_train = []\n",
        "x_test = []\n",
        "y_train = []\n",
        "y_test= []\n",
        "\n",
        "for item in train_df['X']:\n",
        "  x_train.append(item)\n",
        "\n",
        "for item in validate_df['X']:\n",
        "  x_test.append(item)\n",
        "\n",
        "for item in train_df['Y']:\n",
        "  y_train.append(item)\n",
        "\n",
        "for item in validate_df['Y']:\n",
        "  y_test.append(item)\n",
        "\n",
        "x_train = np.array(x_train, dtype=np.uint8)\n",
        "x_test = np.array(x_test, dtype=np.uint8)\n",
        "y_train = np.array(y_train, dtype=np.uint8)\n",
        "y_test = np.array(y_test, dtype=np.uint8)\n",
        "\n",
        "datagen = ImageDataGenerator(\n",
        "    featurewise_center=True,\n",
        "    featurewise_std_normalization=True,\n",
        "    rotation_range=20,\n",
        "    width_shift_range=0.2,\n",
        "    height_shift_range=0.2,\n",
        "    horizontal_flip=True)\n",
        "\n",
        "datagen.fit(x_train)"
      ],
      "execution_count": 0,
      "outputs": []
    },
    {
      "cell_type": "code",
      "metadata": {
        "id": "azzajTLp9K4E",
        "colab_type": "code",
        "outputId": "f74b16f7-a6f4-41a3-a733-aea2ae9cc36c",
        "colab": {
          "base_uri": "https://localhost:8080/",
          "height": 391
        }
      },
      "source": [
        "#build model\n",
        "from tensorflow.python.keras.layers import Conv2D, MaxPooling2D, Dropout, Flatten, Dense, Activation, BatchNormalization\n",
        "from tensorflow.python.keras import Sequential\n",
        "from tensorflow.keras.optimizers import RMSprop, SGD\n",
        "from tensorflow.keras.applications.resnet50 import ResNet50\n",
        "\n",
        "import math\n",
        "\n",
        "#from keras.models import Sequential\n",
        "#from keras.layers import Conv2D, MaxPooling2D, Dropout, Flatten, Dense, Activation, BatchNormalization\n",
        "#from keras.optimizers import RMSprop, SGD\n",
        "#from keras.applications.resnet50 import ResNet50\n",
        "#from keras.applications.vgg16 import VGG16\n",
        "\n",
        "base_model = ResNet50(weights='imagenet', include_top=False, input_shape=(IMAGE_WIDTH, IMAGE_HEIGHT, IMAGE_CHANNELS))\n",
        "#base_model = VGG16(weights='imagenet', include_top=False, input_shape=(IMAGE_WIDTH, IMAGE_HEIGHT, IMAGE_CHANNELS))\n",
        "\n",
        "model = Sequential()\n",
        "model.add(base_model)\n",
        "\n",
        "model.add(Flatten())\n",
        "model.add(Dense(1024))\n",
        "model.add(BatchNormalization())\n",
        "model.add(Activation('relu'))\n",
        "model.add(Dropout(0.5))\n",
        "\n",
        "model.add(Dense(512))\n",
        "model.add(BatchNormalization())\n",
        "model.add(Activation('relu'))\n",
        "model.add(Dropout(0.5))\n",
        "model.add(Dense(6, activation='softmax')) # \n",
        "\n",
        "for layer in base_model.layers:\n",
        "    layer.trainable = False\n",
        "\n",
        "#model.compile(loss='categorical_crossentropy', optimizer=RMSprop(lr=0.0001), metrics=['accuracy'])\n",
        "#model.compile(loss='categorical_crossentropy', optimizer='rmsprop', metrics=['accuracy'])\n",
        "model.compile(optimizer=SGD(lr=0.0001, momentum=0.9), loss='categorical_crossentropy', metrics=['accuracy'])\n",
        "\n",
        "#model.summary()\n",
        "\n",
        "## Train\n",
        "from keras.callbacks import EarlyStopping, ReduceLROnPlateau\n",
        "from keras.applications.vgg16 import preprocess_input\n",
        "\n",
        "earlystop = EarlyStopping(patience=5)\n",
        "learning_rate_reduction = ReduceLROnPlateau(monitor='val_acc', \n",
        "                                            patience=2, \n",
        "                                            verbose=1, \n",
        "                                            factor=0.5, \n",
        "                                            min_lr=0.0001)\n",
        "EPOCHS=10\n",
        "BATCH_SIZE=32\n",
        "callbacks = [learning_rate_reduction]\n",
        "\n",
        "history = model.fit(x_train, \n",
        "                    y_train,\n",
        "                    shuffle=True,\n",
        "                    batch_size=BATCH_SIZE,\n",
        "                    epochs=EPOCHS,\n",
        "                    verbose=1,\n",
        "                    validation_data=(x_test, y_test))\n",
        "                    #,callbacks=callbacks)\n",
        "\n",
        "#Should use fit\n",
        "# history = model.fit_generator(\n",
        "#     datagen.flow(x_train, y_train, batch_size=BATCH_SIZE),\n",
        "#     epochs=EPOCHS,\n",
        "#     shuffle=True,\n",
        "#     validation_data=(x_test, y_test),\n",
        "#     steps_per_epoch=math.ceil(len(x_train)/BATCH_SIZE) # can be optimized\n",
        "# )\n",
        "score = model.evaluate(x_test, y_test, verbose=0)\n",
        "print('Test loss:', score[0])\n",
        "print('Test accuracy:', score[1])"
      ],
      "execution_count": 32,
      "outputs": [
        {
          "output_type": "stream",
          "text": [
            "Epoch 1/10\n",
            "45/45 [==============================] - 10s 223ms/step - loss: 0.6677 - accuracy: 0.7884 - val_loss: 0.1791 - val_accuracy: 0.9408\n",
            "Epoch 2/10\n",
            "45/45 [==============================] - 9s 203ms/step - loss: 0.0952 - accuracy: 0.9852 - val_loss: 0.1592 - val_accuracy: 0.9662\n",
            "Epoch 3/10\n",
            "45/45 [==============================] - 9s 204ms/step - loss: 0.0715 - accuracy: 0.9901 - val_loss: 0.1626 - val_accuracy: 0.9718\n",
            "Epoch 4/10\n",
            "45/45 [==============================] - 9s 203ms/step - loss: 0.0606 - accuracy: 0.9929 - val_loss: 0.1639 - val_accuracy: 0.9718\n",
            "Epoch 5/10\n",
            "45/45 [==============================] - 9s 205ms/step - loss: 0.0417 - accuracy: 0.9965 - val_loss: 0.1660 - val_accuracy: 0.9718\n",
            "Epoch 6/10\n",
            "45/45 [==============================] - 9s 204ms/step - loss: 0.0384 - accuracy: 0.9979 - val_loss: 0.1686 - val_accuracy: 0.9718\n",
            "Epoch 7/10\n",
            "45/45 [==============================] - 9s 204ms/step - loss: 0.0361 - accuracy: 0.9979 - val_loss: 0.1682 - val_accuracy: 0.9718\n",
            "Epoch 8/10\n",
            "45/45 [==============================] - 9s 204ms/step - loss: 0.0341 - accuracy: 0.9965 - val_loss: 0.1665 - val_accuracy: 0.9718\n",
            "Epoch 9/10\n",
            "45/45 [==============================] - 9s 204ms/step - loss: 0.0296 - accuracy: 0.9958 - val_loss: 0.1620 - val_accuracy: 0.9746\n",
            "Epoch 10/10\n",
            "45/45 [==============================] - 9s 204ms/step - loss: 0.0224 - accuracy: 0.9993 - val_loss: 0.1627 - val_accuracy: 0.9690\n",
            "Test loss: 0.1627434939146042\n",
            "Test accuracy: 0.9690141081809998\n"
          ],
          "name": "stdout"
        }
      ]
    },
    {
      "cell_type": "code",
      "metadata": {
        "id": "nWUl3_0t9vm6",
        "colab_type": "code",
        "outputId": "fcd2b01e-c124-49fe-ef55-634d3437da18",
        "colab": {
          "base_uri": "https://localhost:8080/",
          "height": 34
        }
      },
      "source": [
        "MODEL_FILE_NAME = 'eroad_action_detection_resnet_10_epoch_v3.h5'\n",
        "model.save(MODEL_FILE_NAME)\n",
        "shutil.copyfile(MODEL_FILE_NAME, DRIVE_PATH + 'model/'+ MODEL_FILE_NAME)"
      ],
      "execution_count": 33,
      "outputs": [
        {
          "output_type": "execute_result",
          "data": {
            "text/plain": [
              "'/content/drive/My Drive/colab/model/eroad_action_detection_resnet_10_epoch_v3.h5'"
            ]
          },
          "metadata": {
            "tags": []
          },
          "execution_count": 33
        }
      ]
    },
    {
      "cell_type": "code",
      "metadata": {
        "id": "EM4g63Y_4fjG",
        "colab_type": "code",
        "colab": {}
      },
      "source": [
        "from IPython.display import display, Javascript\n",
        "from google.colab.output import eval_js\n",
        "from base64 import b64decode\n",
        "\n",
        "def take_photo(filename='photo.jpg', quality=0.8):\n",
        "  js = Javascript('''\n",
        "    async function takePhoto(quality) {\n",
        "      const div = document.createElement('div');\n",
        "      const capture = document.createElement('button');\n",
        "      capture.textContent = 'Capture';\n",
        "      div.appendChild(capture);\n",
        "\n",
        "      const video = document.createElement('video');\n",
        "      video.style.display = 'block';\n",
        "      const stream = await navigator.mediaDevices.getUserMedia({video: true});\n",
        "\n",
        "      document.body.appendChild(div);\n",
        "      div.appendChild(video);\n",
        "      video.srcObject = stream;\n",
        "      await video.play();\n",
        "\n",
        "      // Resize the output to fit the video element.\n",
        "      google.colab.output.setIframeHeight(document.documentElement.scrollHeight, true);\n",
        "\n",
        "      // Wait for Capture to be clicked.\n",
        "      await new Promise((resolve) => capture.onclick = resolve);\n",
        "\n",
        "      const canvas = document.createElement('canvas');\n",
        "      canvas.width = video.videoWidth;\n",
        "      canvas.height = video.videoHeight;\n",
        "      canvas.getContext('2d').drawImage(video, 0, 0);\n",
        "      stream.getVideoTracks()[0].stop();\n",
        "      div.remove();\n",
        "      return canvas.toDataURL('image/jpeg', quality);\n",
        "    }\n",
        "    ''')\n",
        "  display(js)\n",
        "  data = eval_js('takePhoto({})'.format(quality))\n",
        "  binary = b64decode(data.split(',')[1])\n",
        "  with open(filename, 'wb') as f:\n",
        "    f.write(binary)\n",
        "  return filename"
      ],
      "execution_count": 0,
      "outputs": []
    },
    {
      "cell_type": "code",
      "metadata": {
        "id": "BqOzo7864fhr",
        "colab_type": "code",
        "colab": {}
      },
      "source": [
        "\n",
        "\n",
        "label_map = {\n",
        "    0: 'normal',\n",
        "    1: 'drinking',\n",
        "    2: 'phone_left',\n",
        "    3: 'phone_right',\n",
        "    4: 'text_left',\n",
        "    5: 'text_right'\n",
        "}\n",
        "\n",
        "from IPython.display import Image\n",
        "try:\n",
        "  filename = take_photo()\n",
        "  print('Saved to {}'.format(filename))\n",
        "  \n",
        "  #img = get_im_cv2(filename, IMAGE_WIDTH, IMAGE_HEIGHT)\n",
        "  img = get_center_roi(cv2.imread(filename))\n",
        "  img = imutils.resize(img, width=224)\n",
        "  x_predict=[]\n",
        "  x_predict.append(img)\n",
        "  x_predict = np.array(x_predict, dtype=np.uint8)\n",
        "  prediction = model.predict(x_predict);\n",
        "\n",
        "  label = np.argmax(prediction)\n",
        "\n",
        "  print(*prediction) \n",
        "  print(label)\n",
        "  print(\"Classified: %s\" % (label_map.get(label)))\n",
        "\n",
        "  # Show the image which was just taken.\n",
        "  display(Image(filename))\n",
        "except Exception as err:\n",
        "  # Errors will be thrown if the user does not have a webcam or if they do not\n",
        "  # grant the page permission to access it.\n",
        "  print(str(err))"
      ],
      "execution_count": 0,
      "outputs": []
    }
  ]
}