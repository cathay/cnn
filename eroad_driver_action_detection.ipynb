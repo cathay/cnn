{
  "nbformat": 4,
  "nbformat_minor": 0,
  "metadata": {
    "colab": {
      "name": "eroad_driver_action_detection.ipynb",
      "provenance": [],
      "collapsed_sections": [],
      "toc_visible": true,
      "authorship_tag": "ABX9TyPg1hgwYbNXc6MAmKXNHxUM",
      "include_colab_link": true
    },
    "kernelspec": {
      "name": "python3",
      "display_name": "Python 3"
    },
    "accelerator": "GPU"
  },
  "cells": [
    {
      "cell_type": "markdown",
      "metadata": {
        "id": "view-in-github",
        "colab_type": "text"
      },
      "source": [
        "<a href=\"https://colab.research.google.com/github/cathay/cnn/blob/master/eroad_driver_action_detection.ipynb\" target=\"_parent\"><img src=\"https://colab.research.google.com/assets/colab-badge.svg\" alt=\"Open In Colab\"/></a>"
      ]
    },
    {
      "cell_type": "code",
      "metadata": {
        "id": "0V7gtDzj3SbC",
        "colab_type": "code",
        "outputId": "d38b9608-d95d-4b43-feb0-51162a6aaaa3",
        "colab": {
          "base_uri": "https://localhost:8080/",
          "height": 122
        }
      },
      "source": [
        "import os\n",
        "import zipfile\n",
        "import random\n",
        "import tensorflow as tf\n",
        "from shutil import copyfile\n",
        "import pandas as pd\n",
        "import numpy as np\n",
        "import cv2\n",
        "from sklearn.model_selection import train_test_split\n",
        "\n",
        "#Import Google drive functions\n",
        "from pydrive.auth import GoogleAuth\n",
        "from pydrive.drive import GoogleDrive\n",
        "from google.colab import auth\n",
        "from oauth2client.client import GoogleCredentials\n",
        "\n",
        "from google.colab import drive\n",
        "drive.mount('/content/drive')"
      ],
      "execution_count": 1,
      "outputs": [
        {
          "output_type": "stream",
          "text": [
            "Go to this URL in a browser: https://accounts.google.com/o/oauth2/auth?client_id=947318989803-6bn6qk8qdgf4n4g3pfee6491hc0brc4i.apps.googleusercontent.com&redirect_uri=urn%3aietf%3awg%3aoauth%3a2.0%3aoob&response_type=code&scope=email%20https%3a%2f%2fwww.googleapis.com%2fauth%2fdocs.test%20https%3a%2f%2fwww.googleapis.com%2fauth%2fdrive%20https%3a%2f%2fwww.googleapis.com%2fauth%2fdrive.photos.readonly%20https%3a%2f%2fwww.googleapis.com%2fauth%2fpeopleapi.readonly\n",
            "\n",
            "Enter your authorization code:\n",
            "··········\n",
            "Mounted at /content/drive\n"
          ],
          "name": "stdout"
        }
      ]
    },
    {
      "cell_type": "code",
      "metadata": {
        "id": "5LfaxDQkbLQb",
        "colab_type": "code",
        "colab": {}
      },
      "source": [
        "import shutil\n",
        "#shutil.rmtree('tmp')"
      ],
      "execution_count": 0,
      "outputs": []
    },
    {
      "cell_type": "code",
      "metadata": {
        "id": "mrQlkXh43lfu",
        "colab_type": "code",
        "colab": {}
      },
      "source": [
        "import shutil\n",
        "DRIVE_PATH = '/content/drive/My Drive/colab/'\n",
        "TRAIN_FILE = 'Thay_data_table.zip'\n",
        "\n",
        "shutil.copyfile(DRIVE_PATH + TRAIN_FILE, TRAIN_FILE)\n",
        "\n",
        "zip_ref = zipfile.ZipFile('Thay_data_table.zip', 'r')\n",
        "zip_ref.extractall('tmp')\n",
        "zip_ref.close()"
      ],
      "execution_count": 0,
      "outputs": []
    },
    {
      "cell_type": "code",
      "metadata": {
        "id": "pK5wiEKC3oFm",
        "colab_type": "code",
        "colab": {}
      },
      "source": [
        "from keras.utils import to_categorical\n",
        "\n",
        "def get_im_cv2(path, w, h):\n",
        "  img = cv2.imread(path)\n",
        "  resized = cv2.resize(img, (w,h), cv2.INTER_LINEAR) \n",
        "  return resized\n",
        "\n",
        "TRAINING_DIR = 'tmp/Thay_data'\n",
        "IMAGE_WIDTH=224\n",
        "IMAGE_HEIGHT=224\n",
        "IMAGE_SIZE=(IMAGE_WIDTH, IMAGE_HEIGHT)\n",
        "IMAGE_CHANNELS=3\n",
        "\n",
        "files = []\n",
        "categories = []\n",
        "paths = []\n",
        "\n",
        "actions = {\n",
        "    'normal' : 0,\n",
        "    'drinking': 1,\n",
        "    'phone_left' : 2,\n",
        "    'phone_right' : 3,\n",
        "    'text_left': 4,\n",
        "    'text_right': 5\n",
        "}\n",
        "\n",
        "NUM_CLASSESS = len(actions.keys())\n",
        "\n",
        "#Should add class 0\n",
        "for i in range(1,2):\n",
        "  for dir_name in actions.keys():\n",
        "    for file in os.listdir(\"%s_%s/%s\" % (TRAINING_DIR, i, dir_name)):\n",
        "      if(file.endswith('png')): #('.png', '.jpg', '.jpeg')\n",
        "        files.append(file)\n",
        "        categories.append(actions.get(dir_name))\n",
        "        paths.append(\"%s_%s/%s/%s\" %(TRAINING_DIR, i, dir_name, file))\n",
        "\n",
        "df = pd.DataFrame({'file': files,\n",
        "                   'category': categories,\n",
        "                   'path': paths\n",
        "                  })\n",
        "\n",
        "df['Y'] = df['category'].map(lambda x: to_categorical(x, NUM_CLASSESS, dtype='uint8'))\n",
        "df['X'] = df['path'].map(lambda path: get_im_cv2(path, IMAGE_WIDTH, IMAGE_HEIGHT))"
      ],
      "execution_count": 0,
      "outputs": []
    },
    {
      "cell_type": "code",
      "metadata": {
        "id": "p14JOiYf9Z_l",
        "colab_type": "code",
        "outputId": "f756075f-de95-461f-e3ae-bce4dad2caf2",
        "colab": {
          "base_uri": "https://localhost:8080/",
          "height": 34
        }
      },
      "source": [
        "\n",
        "#df.size\n",
        "print(\"files:%s, paths size: %s, df[X]size: %s\" % (len(files), len(paths), df['X'].size))\n",
        "#df.sample(20, axis=None)"
      ],
      "execution_count": 7,
      "outputs": [
        {
          "output_type": "stream",
          "text": [
            "files:712, paths size: 712, df[X]size: 712\n"
          ],
          "name": "stdout"
        }
      ]
    },
    {
      "cell_type": "code",
      "metadata": {
        "id": "sJpwW0rc9Eo6",
        "colab_type": "code",
        "colab": {}
      },
      "source": [
        "train_df, validate_df = train_test_split(df, test_size=0.20, random_state=42)\n",
        "train_df = train_df.reset_index(drop=True)\n",
        "validate_df = validate_df.reset_index(drop=True)\n",
        "\n",
        "x_train = []\n",
        "x_test = []\n",
        "y_train = []\n",
        "y_test= []\n",
        "\n",
        "for item in train_df['X']:\n",
        "  x_train.append(item)\n",
        "\n",
        "for item in validate_df['X']:\n",
        "  x_test.append(item)\n",
        "\n",
        "for item in train_df['Y']:\n",
        "  y_train.append(item)\n",
        "\n",
        "for item in validate_df['Y']:\n",
        "  y_test.append(item)\n",
        "\n",
        "x_train = np.array(x_train, dtype=np.uint8)\n",
        "x_test = np.array(x_test, dtype=np.uint8)\n",
        "y_train = np.array(y_train, dtype=np.uint8)\n",
        "y_test = np.array(y_test, dtype=np.uint8)"
      ],
      "execution_count": 0,
      "outputs": []
    },
    {
      "cell_type": "code",
      "metadata": {
        "id": "azzajTLp9K4E",
        "colab_type": "code",
        "outputId": "6d8b1de3-c88e-4a0a-deb1-23d35bd82a42",
        "colab": {
          "base_uri": "https://localhost:8080/",
          "height": 445
        }
      },
      "source": [
        "#build model\n",
        "from tensorflow.python.keras.layers import Conv2D, MaxPooling2D, Dropout, Flatten, Dense, Activation, BatchNormalization\n",
        "from tensorflow.python.keras import Sequential\n",
        "from tensorflow.keras.optimizers import RMSprop, SGD\n",
        "from tensorflow.keras.applications.resnet50 import ResNet50\n",
        "\n",
        "#from keras.models import Sequential\n",
        "#from keras.layers import Conv2D, MaxPooling2D, Dropout, Flatten, Dense, Activation, BatchNormalization\n",
        "#from keras.optimizers import RMSprop, SGD\n",
        "#from keras.applications.resnet50 import ResNet50\n",
        "#from keras.applications.vgg16 import VGG16\n",
        "\n",
        "base_model = ResNet50(weights='imagenet', include_top=False, input_shape=(IMAGE_WIDTH, IMAGE_HEIGHT, IMAGE_CHANNELS))\n",
        "#base_model = VGG16(weights='imagenet', include_top=False, input_shape=(IMAGE_WIDTH, IMAGE_HEIGHT, IMAGE_CHANNELS))\n",
        "\n",
        "model = Sequential()\n",
        "model.add(base_model)\n",
        "\n",
        "model.add(Flatten())\n",
        "model.add(Dense(1024))\n",
        "model.add(BatchNormalization())\n",
        "model.add(Activation('relu'))\n",
        "model.add(Dropout(0.5))\n",
        "\n",
        "model.add(Dense(512))\n",
        "model.add(BatchNormalization())\n",
        "model.add(Activation('relu'))\n",
        "model.add(Dropout(0.5))\n",
        "model.add(Dense(6, activation='softmax')) # \n",
        "\n",
        "for layer in base_model.layers:\n",
        "    layer.trainable = False\n",
        "\n",
        "#model.compile(loss='categorical_crossentropy', optimizer=RMSprop(lr=0.0001), metrics=['accuracy'])\n",
        "#model.compile(loss='categorical_crossentropy', optimizer='rmsprop', metrics=['accuracy'])\n",
        "model.compile(optimizer=SGD(lr=0.0001, momentum=0.9), loss='categorical_crossentropy', metrics=['accuracy'])\n",
        "\n",
        "#model.summary()\n",
        "\n",
        "## Train\n",
        "from keras.callbacks import EarlyStopping, ReduceLROnPlateau\n",
        "from keras.applications.vgg16 import preprocess_input\n",
        "\n",
        "earlystop = EarlyStopping(patience=5)\n",
        "learning_rate_reduction = ReduceLROnPlateau(monitor='val_acc', \n",
        "                                            patience=2, \n",
        "                                            verbose=1, \n",
        "                                            factor=0.5, \n",
        "                                            min_lr=0.0001)\n",
        "EPOCHS=10\n",
        "BATCH_SIZE=15\n",
        "callbacks = [learning_rate_reduction]\n",
        "\n",
        "history = model.fit(x_train, \n",
        "                    y_train,\n",
        "                    shuffle=True,\n",
        "                    batch_size=BATCH_SIZE,\n",
        "                    epochs=EPOCHS,\n",
        "                    verbose=1,\n",
        "                    validation_data=(x_test, y_test))\n",
        "                    #,callbacks=callbacks)\n",
        "score = model.evaluate(x_test, y_test, verbose=0)\n",
        "print('Test loss:', score[0])\n",
        "print('Test accuracy:', score[1])"
      ],
      "execution_count": 9,
      "outputs": [
        {
          "output_type": "stream",
          "text": [
            "Downloading data from https://storage.googleapis.com/tensorflow/keras-applications/resnet/resnet50_weights_tf_dim_ordering_tf_kernels_notop.h5\n",
            "94773248/94765736 [==============================] - 1s 0us/step\n",
            "Epoch 1/10\n",
            "38/38 [==============================] - 3s 82ms/step - loss: 0.8176 - accuracy: 0.7399 - val_loss: 0.2581 - val_accuracy: 0.9510\n",
            "Epoch 2/10\n",
            "38/38 [==============================] - 2s 52ms/step - loss: 0.1221 - accuracy: 0.9789 - val_loss: 0.1692 - val_accuracy: 0.9510\n",
            "Epoch 3/10\n",
            "38/38 [==============================] - 2s 52ms/step - loss: 0.0870 - accuracy: 0.9947 - val_loss: 0.1453 - val_accuracy: 0.9580\n",
            "Epoch 4/10\n",
            "38/38 [==============================] - 2s 52ms/step - loss: 0.0837 - accuracy: 0.9859 - val_loss: 0.1410 - val_accuracy: 0.9580\n",
            "Epoch 5/10\n",
            "38/38 [==============================] - 2s 52ms/step - loss: 0.0553 - accuracy: 0.9930 - val_loss: 0.1308 - val_accuracy: 0.9650\n",
            "Epoch 6/10\n",
            "38/38 [==============================] - 2s 51ms/step - loss: 0.0481 - accuracy: 0.9965 - val_loss: 0.1251 - val_accuracy: 0.9650\n",
            "Epoch 7/10\n",
            "38/38 [==============================] - 2s 52ms/step - loss: 0.0539 - accuracy: 0.9912 - val_loss: 0.1151 - val_accuracy: 0.9790\n",
            "Epoch 8/10\n",
            "38/38 [==============================] - 2s 52ms/step - loss: 0.0420 - accuracy: 0.9982 - val_loss: 0.1128 - val_accuracy: 0.9790\n",
            "Epoch 9/10\n",
            "38/38 [==============================] - 2s 52ms/step - loss: 0.0344 - accuracy: 0.9965 - val_loss: 0.1094 - val_accuracy: 0.9860\n",
            "Epoch 10/10\n",
            "38/38 [==============================] - 2s 52ms/step - loss: 0.0313 - accuracy: 1.0000 - val_loss: 0.1047 - val_accuracy: 0.9860\n",
            "Test loss: 0.1066194400191307\n",
            "Test accuracy: 0.9860140085220337\n"
          ],
          "name": "stdout"
        }
      ]
    },
    {
      "cell_type": "code",
      "metadata": {
        "id": "nWUl3_0t9vm6",
        "colab_type": "code",
        "outputId": "a4d0b3f5-0a87-498c-f123-bd301472a120",
        "colab": {
          "base_uri": "https://localhost:8080/",
          "height": 34
        }
      },
      "source": [
        "MODEL_FILE_NAME = 'eroad_action_detection_resnet_10_epoch_v1.h5'\n",
        "model.save(MODEL_FILE_NAME)\n",
        "#shutil.copyfile(MODEL_FILE_NAME, DRIVE_PATH + MODEL_FILE_NAME)"
      ],
      "execution_count": 10,
      "outputs": [
        {
          "output_type": "execute_result",
          "data": {
            "text/plain": [
              "'/content/drive/My Drive/colab/eroad_action_detection_resnet_10_epoch_v1.h5'"
            ]
          },
          "metadata": {
            "tags": []
          },
          "execution_count": 10
        }
      ]
    },
    {
      "cell_type": "code",
      "metadata": {
        "id": "EM4g63Y_4fjG",
        "colab_type": "code",
        "colab": {}
      },
      "source": [
        "from IPython.display import display, Javascript\n",
        "from google.colab.output import eval_js\n",
        "from base64 import b64decode\n",
        "\n",
        "def take_photo(filename='photo.jpg', quality=0.8):\n",
        "  js = Javascript('''\n",
        "    async function takePhoto(quality) {\n",
        "      const div = document.createElement('div');\n",
        "      const capture = document.createElement('button');\n",
        "      capture.textContent = 'Capture';\n",
        "      div.appendChild(capture);\n",
        "\n",
        "      const video = document.createElement('video');\n",
        "      video.style.display = 'block';\n",
        "      const stream = await navigator.mediaDevices.getUserMedia({video: true});\n",
        "\n",
        "      document.body.appendChild(div);\n",
        "      div.appendChild(video);\n",
        "      video.srcObject = stream;\n",
        "      await video.play();\n",
        "\n",
        "      // Resize the output to fit the video element.\n",
        "      google.colab.output.setIframeHeight(document.documentElement.scrollHeight, true);\n",
        "\n",
        "      // Wait for Capture to be clicked.\n",
        "      await new Promise((resolve) => capture.onclick = resolve);\n",
        "\n",
        "      const canvas = document.createElement('canvas');\n",
        "      canvas.width = video.videoWidth;\n",
        "      canvas.height = video.videoHeight;\n",
        "      canvas.getContext('2d').drawImage(video, 0, 0);\n",
        "      stream.getVideoTracks()[0].stop();\n",
        "      div.remove();\n",
        "      return canvas.toDataURL('image/jpeg', quality);\n",
        "    }\n",
        "    ''')\n",
        "  display(js)\n",
        "  data = eval_js('takePhoto({})'.format(quality))\n",
        "  binary = b64decode(data.split(',')[1])\n",
        "  with open(filename, 'wb') as f:\n",
        "    f.write(binary)\n",
        "  return filename"
      ],
      "execution_count": 0,
      "outputs": []
    },
    {
      "cell_type": "code",
      "metadata": {
        "id": "BqOzo7864fhr",
        "colab_type": "code",
        "colab": {
          "base_uri": "https://localhost:8080/",
          "height": 17
        },
        "outputId": "c822c2ff-3c10-4d02-a80f-5c69aca4e2ab"
      },
      "source": [
        "label_map = {\n",
        "    0: 'normal',\n",
        "    1: 'drinking',\n",
        "    2: 'phone_left',\n",
        "    3: 'phone_right',\n",
        "    4: 'text_left',\n",
        "    5: 'text_right'\n",
        "}\n",
        "\n",
        "from IPython.display import Image\n",
        "try:\n",
        "  filename = take_photo()\n",
        "  print('Saved to {}'.format(filename))\n",
        "  \n",
        "  img = get_im_cv2(filename, IMAGE_WIDTH, IMAGE_HEIGHT)\n",
        "\n",
        "  x_predict=[]\n",
        "  x_predict.append(img)\n",
        "  x_predict = np.array(x_predict, dtype=np.uint8)\n",
        "  prediction = model.predict(x_predict);\n",
        "\n",
        "  label = np.argmax(prediction)\n",
        "\n",
        "  print(*prediction) \n",
        "  print(label)\n",
        "  print(\"Classified: %s\" % (label_map.get(label)))\n",
        "\n",
        "  # Show the image which was just taken.\n",
        "  display(Image(filename))\n",
        "except Exception as err:\n",
        "  # Errors will be thrown if the user does not have a webcam or if they do not\n",
        "  # grant the page permission to access it.\n",
        "  print(str(err))"
      ],
      "execution_count": 0,
      "outputs": [
        {
          "output_type": "display_data",
          "data": {
            "application/javascript": [
              "\n",
              "    async function takePhoto(quality) {\n",
              "      const div = document.createElement('div');\n",
              "      const capture = document.createElement('button');\n",
              "      capture.textContent = 'Capture';\n",
              "      div.appendChild(capture);\n",
              "\n",
              "      const video = document.createElement('video');\n",
              "      video.style.display = 'block';\n",
              "      const stream = await navigator.mediaDevices.getUserMedia({video: true});\n",
              "\n",
              "      document.body.appendChild(div);\n",
              "      div.appendChild(video);\n",
              "      video.srcObject = stream;\n",
              "      await video.play();\n",
              "\n",
              "      // Resize the output to fit the video element.\n",
              "      google.colab.output.setIframeHeight(document.documentElement.scrollHeight, true);\n",
              "\n",
              "      // Wait for Capture to be clicked.\n",
              "      await new Promise((resolve) => capture.onclick = resolve);\n",
              "\n",
              "      const canvas = document.createElement('canvas');\n",
              "      canvas.width = video.videoWidth;\n",
              "      canvas.height = video.videoHeight;\n",
              "      canvas.getContext('2d').drawImage(video, 0, 0);\n",
              "      stream.getVideoTracks()[0].stop();\n",
              "      div.remove();\n",
              "      return canvas.toDataURL('image/jpeg', quality);\n",
              "    }\n",
              "    "
            ],
            "text/plain": [
              "<IPython.core.display.Javascript object>"
            ]
          },
          "metadata": {
            "tags": []
          }
        }
      ]
    }
  ]
}