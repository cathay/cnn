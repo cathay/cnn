{
  "nbformat": 4,
  "nbformat_minor": 0,
  "metadata": {
    "colab": {
      "name": "eroad_driver_action_detection.ipynb",
      "provenance": [],
      "collapsed_sections": [],
      "toc_visible": true,
      "authorship_tag": "ABX9TyOU4bnh1mCzMwWhP6CDrmj/",
      "include_colab_link": true
    },
    "kernelspec": {
      "name": "python3",
      "display_name": "Python 3"
    },
    "accelerator": "GPU"
  },
  "cells": [
    {
      "cell_type": "markdown",
      "metadata": {
        "id": "view-in-github",
        "colab_type": "text"
      },
      "source": [
        "<a href=\"https://colab.research.google.com/github/cathay/cnn/blob/master/eroad_driver_action_detection.ipynb\" target=\"_parent\"><img src=\"https://colab.research.google.com/assets/colab-badge.svg\" alt=\"Open In Colab\"/></a>"
      ]
    },
    {
      "cell_type": "code",
      "metadata": {
        "id": "0V7gtDzj3SbC",
        "colab_type": "code",
        "outputId": "257835ca-46b2-4d7b-ac4f-e0d6e37a5799",
        "colab": {
          "base_uri": "https://localhost:8080/",
          "height": 122
        }
      },
      "source": [
        "import os\n",
        "import zipfile\n",
        "import random\n",
        "import tensorflow as tf\n",
        "from shutil import copyfile\n",
        "import pandas as pd\n",
        "import numpy as np\n",
        "import cv2\n",
        "from sklearn.model_selection import train_test_split\n",
        "\n",
        "#Import Google drive functions\n",
        "from pydrive.auth import GoogleAuth\n",
        "from pydrive.drive import GoogleDrive\n",
        "from google.colab import auth\n",
        "from oauth2client.client import GoogleCredentials\n",
        "\n",
        "from google.colab import drive\n",
        "drive.mount('/content/drive')"
      ],
      "execution_count": 1,
      "outputs": [
        {
          "output_type": "stream",
          "text": [
            "Go to this URL in a browser: https://accounts.google.com/o/oauth2/auth?client_id=947318989803-6bn6qk8qdgf4n4g3pfee6491hc0brc4i.apps.googleusercontent.com&redirect_uri=urn%3aietf%3awg%3aoauth%3a2.0%3aoob&response_type=code&scope=email%20https%3a%2f%2fwww.googleapis.com%2fauth%2fdocs.test%20https%3a%2f%2fwww.googleapis.com%2fauth%2fdrive%20https%3a%2f%2fwww.googleapis.com%2fauth%2fdrive.photos.readonly%20https%3a%2f%2fwww.googleapis.com%2fauth%2fpeopleapi.readonly\n",
            "\n",
            "Enter your authorization code:\n",
            "··········\n",
            "Mounted at /content/drive\n"
          ],
          "name": "stdout"
        }
      ]
    },
    {
      "cell_type": "code",
      "metadata": {
        "id": "5LfaxDQkbLQb",
        "colab_type": "code",
        "colab": {}
      },
      "source": [
        "import shutil\n",
        "#shutil.rmtree('tmp')"
      ],
      "execution_count": 0,
      "outputs": []
    },
    {
      "cell_type": "code",
      "metadata": {
        "id": "mrQlkXh43lfu",
        "colab_type": "code",
        "colab": {}
      },
      "source": [
        "import shutil\n",
        "DRIVE_PATH = '/content/drive/My Drive/colab/'\n",
        "TRAIN_FILE = 'Thay_data_table.zip'\n",
        "\n",
        "shutil.copyfile(DRIVE_PATH + TRAIN_FILE, TRAIN_FILE)\n",
        "\n",
        "zip_ref = zipfile.ZipFile('Thay_data_table.zip', 'r')\n",
        "zip_ref.extractall('tmp')\n",
        "zip_ref.close()"
      ],
      "execution_count": 0,
      "outputs": []
    },
    {
      "cell_type": "code",
      "metadata": {
        "id": "pK5wiEKC3oFm",
        "colab_type": "code",
        "colab": {
          "base_uri": "https://localhost:8080/",
          "height": 34
        },
        "outputId": "f424d5c9-0c1c-4471-9479-3a5ce3f6f699"
      },
      "source": [
        "from keras.utils import to_categorical\n",
        "import imutils\n",
        "\n",
        "TRAINING_DIR = 'tmp/Thay_data'\n",
        "IMAGE_WIDTH=224\n",
        "IMAGE_HEIGHT=224\n",
        "IMAGE_SIZE=(IMAGE_WIDTH, IMAGE_HEIGHT)\n",
        "IMAGE_CHANNELS=3\n",
        "\n",
        "def get_im_cv2(path, w, h):\n",
        "  img = cv2.imread(path)\n",
        "  return cv2.resize(img, (w,h), cv2.INTER_LINEAR) \n",
        "\n",
        "def get_center_roi(frame):\n",
        "    # get the Region of Interest (y,y)\n",
        "    height, width, channel = frame.shape\n",
        "    midpoint_x = int(width / 2.0)\n",
        "    midpoint_y = int(height / 2.0)\n",
        "    left_x = midpoint_x - midpoint_y\n",
        "    cropped = frame[0:height, left_x:width - left_x]\n",
        "    return cropped\n",
        "\n",
        "def to_resenet_input(path):\n",
        "  img = cv2.imread(path)\n",
        "  img = get_center_roi(img)\n",
        "  return imutils.resize(img, width=IMAGE_WIDTH, height=IMAGE_HEIGHT)\n",
        "\n",
        "files = []\n",
        "categories = []\n",
        "paths = []\n",
        "\n",
        "actions = {\n",
        "    'normal' : 0,\n",
        "    'drinking': 1,\n",
        "    'phone_left' : 2,\n",
        "    'phone_right' : 3,\n",
        "    'text_left': 4,\n",
        "    'text_right': 5\n",
        "}\n",
        "\n",
        "NUM_CLASSESS = len(actions.keys())\n",
        "\n",
        "#Should add class 0\n",
        "for i in range(1,2):\n",
        "  for dir_name in actions.keys():\n",
        "    for file in os.listdir(\"%s_%s/%s\" % (TRAINING_DIR, i, dir_name)):\n",
        "      if file.endswith('png') or file.endswith('jpg') or file.endswith('\bjpeg'): #('.png', '.jpg', '.jpeg')\n",
        "        files.append(file)\n",
        "        categories.append(actions.get(dir_name))\n",
        "        paths.append(\"%s_%s/%s/%s\" %(TRAINING_DIR, i, dir_name, file))\n",
        "\n",
        "df = pd.DataFrame({'file': files,\n",
        "                   'category': categories,\n",
        "                   'path': paths\n",
        "                  })\n",
        "\n",
        "df['Y'] = df['category'].map(lambda x: to_categorical(x, NUM_CLASSESS, dtype='uint8'))\n",
        "df['X'] = df['path'].map(lambda path: to_resenet_input(path))\n",
        "#df['X'] = df['path'].map(lambda path: get_im_cv2(path, IMAGE_WIDTH, IMAGE_HEIGHT))\n",
        "#df.size\n",
        "print(\"files:%s, paths size: %s, df[X]size: %s\" % (len(files), len(paths), df['X'].size))\n",
        "#df.sample(20, axis=None)"
      ],
      "execution_count": 40,
      "outputs": [
        {
          "output_type": "stream",
          "text": [
            "files:712, paths size: 712, df[X]size: 712\n"
          ],
          "name": "stdout"
        }
      ]
    },
    {
      "cell_type": "code",
      "metadata": {
        "id": "sJpwW0rc9Eo6",
        "colab_type": "code",
        "colab": {}
      },
      "source": [
        "from keras.preprocessing.image import ImageDataGenerator\n",
        "train_df, validate_df = train_test_split(df, test_size=0.20, random_state=42)\n",
        "train_df = train_df.reset_index(drop=True)\n",
        "validate_df = validate_df.reset_index(drop=True)\n",
        "\n",
        "x_train = []\n",
        "x_test = []\n",
        "y_train = []\n",
        "y_test= []\n",
        "\n",
        "for item in train_df['X']:\n",
        "  x_train.append(item)\n",
        "\n",
        "for item in validate_df['X']:\n",
        "  x_test.append(item)\n",
        "\n",
        "for item in train_df['Y']:\n",
        "  y_train.append(item)\n",
        "\n",
        "for item in validate_df['Y']:\n",
        "  y_test.append(item)\n",
        "\n",
        "x_train = np.array(x_train, dtype=np.uint8)\n",
        "x_test = np.array(x_test, dtype=np.uint8)\n",
        "y_train = np.array(y_train, dtype=np.uint8)\n",
        "y_test = np.array(y_test, dtype=np.uint8)\n",
        "\n",
        "datagen = ImageDataGenerator(\n",
        "    featurewise_center=True,\n",
        "    featurewise_std_normalization=True,\n",
        "    rotation_range=20,\n",
        "    width_shift_range=0.2,\n",
        "    height_shift_range=0.2,\n",
        "    horizontal_flip=True)\n",
        "\n",
        "datagen.fit(x_train)"
      ],
      "execution_count": 0,
      "outputs": []
    },
    {
      "cell_type": "code",
      "metadata": {
        "id": "azzajTLp9K4E",
        "colab_type": "code",
        "outputId": "a6f6d939-a1a5-400e-e88c-8dbb955e6e4c",
        "colab": {
          "base_uri": "https://localhost:8080/",
          "height": 751
        }
      },
      "source": [
        "#build model\n",
        "from tensorflow.python.keras.layers import Conv2D, MaxPooling2D, Dropout, Flatten, Dense, Activation, BatchNormalization\n",
        "from tensorflow.python.keras import Sequential\n",
        "from tensorflow.keras.optimizers import RMSprop, SGD\n",
        "from tensorflow.keras.applications.resnet50 import ResNet50\n",
        "\n",
        "import math\n",
        "\n",
        "#from keras.models import Sequential\n",
        "#from keras.layers import Conv2D, MaxPooling2D, Dropout, Flatten, Dense, Activation, BatchNormalization\n",
        "#from keras.optimizers import RMSprop, SGD\n",
        "#from keras.applications.resnet50 import ResNet50\n",
        "#from keras.applications.vgg16 import VGG16\n",
        "\n",
        "base_model = ResNet50(weights='imagenet', include_top=False, input_shape=(IMAGE_WIDTH, IMAGE_HEIGHT, IMAGE_CHANNELS))\n",
        "#base_model = VGG16(weights='imagenet', include_top=False, input_shape=(IMAGE_WIDTH, IMAGE_HEIGHT, IMAGE_CHANNELS))\n",
        "\n",
        "model = Sequential()\n",
        "model.add(base_model)\n",
        "\n",
        "model.add(Flatten())\n",
        "model.add(Dense(1024))\n",
        "model.add(BatchNormalization())\n",
        "model.add(Activation('relu'))\n",
        "model.add(Dropout(0.5))\n",
        "\n",
        "model.add(Dense(512))\n",
        "model.add(BatchNormalization())\n",
        "model.add(Activation('relu'))\n",
        "model.add(Dropout(0.5))\n",
        "model.add(Dense(6, activation='softmax')) # \n",
        "\n",
        "for layer in base_model.layers:\n",
        "    layer.trainable = False\n",
        "\n",
        "#model.compile(loss='categorical_crossentropy', optimizer=RMSprop(lr=0.0001), metrics=['accuracy'])\n",
        "#model.compile(loss='categorical_crossentropy', optimizer='rmsprop', metrics=['accuracy'])\n",
        "model.compile(optimizer=SGD(lr=0.0001, momentum=0.9), loss='categorical_crossentropy', metrics=['accuracy'])\n",
        "\n",
        "#model.summary()\n",
        "\n",
        "## Train\n",
        "from keras.callbacks import EarlyStopping, ReduceLROnPlateau\n",
        "from keras.applications.vgg16 import preprocess_input\n",
        "\n",
        "earlystop = EarlyStopping(patience=5)\n",
        "learning_rate_reduction = ReduceLROnPlateau(monitor='val_acc', \n",
        "                                            patience=2, \n",
        "                                            verbose=1, \n",
        "                                            factor=0.5, \n",
        "                                            min_lr=0.0001)\n",
        "EPOCHS=20\n",
        "BATCH_SIZE=32\n",
        "callbacks = [learning_rate_reduction]\n",
        "\n",
        "# history = model.fit(x_train, \n",
        "#                     y_train,\n",
        "#                     shuffle=True,\n",
        "#                     batch_size=BATCH_SIZE,\n",
        "#                     epochs=EPOCHS,\n",
        "#                     verbose=1,\n",
        "#                     validation_data=(x_test, y_test))\n",
        "#                     #,callbacks=callbacks)\n",
        "\n",
        "#Should use fit\n",
        "history = model.fit_generator(\n",
        "    datagen.flow(x_train, y_train, batch_size=BATCH_SIZE),\n",
        "    epochs=EPOCHS,\n",
        "    shuffle=True,\n",
        "    validation_data=(x_test, y_test),\n",
        "    steps_per_epoch=math.ceil(len(x_train)/BATCH_SIZE) # can be optimized\n",
        ")\n",
        "score = model.evaluate(x_test, y_test, verbose=0)\n",
        "print('Test loss:', score[0])\n",
        "print('Test accuracy:', score[1])"
      ],
      "execution_count": 42,
      "outputs": [
        {
          "output_type": "stream",
          "text": [
            "Epoch 1/20\n",
            "18/18 [==============================] - 8s 429ms/step - loss: 2.1496 - accuracy: 0.2109 - val_loss: 1.3577 - val_accuracy: 0.4266\n",
            "Epoch 2/20\n",
            "18/18 [==============================] - 7s 382ms/step - loss: 1.4092 - accuracy: 0.4833 - val_loss: 0.6344 - val_accuracy: 0.7483\n",
            "Epoch 3/20\n",
            "18/18 [==============================] - 7s 378ms/step - loss: 1.0829 - accuracy: 0.6011 - val_loss: 0.4100 - val_accuracy: 0.8741\n",
            "Epoch 4/20\n",
            "18/18 [==============================] - 7s 372ms/step - loss: 0.7903 - accuracy: 0.7118 - val_loss: 0.3562 - val_accuracy: 0.9091\n",
            "Epoch 5/20\n",
            "18/18 [==============================] - 7s 377ms/step - loss: 0.6500 - accuracy: 0.7750 - val_loss: 0.3101 - val_accuracy: 0.9231\n",
            "Epoch 6/20\n",
            "18/18 [==============================] - 7s 374ms/step - loss: 0.5546 - accuracy: 0.8278 - val_loss: 0.2988 - val_accuracy: 0.9091\n",
            "Epoch 7/20\n",
            "18/18 [==============================] - 7s 373ms/step - loss: 0.5227 - accuracy: 0.8401 - val_loss: 0.2726 - val_accuracy: 0.9231\n",
            "Epoch 8/20\n",
            "18/18 [==============================] - 7s 373ms/step - loss: 0.4409 - accuracy: 0.8735 - val_loss: 0.2628 - val_accuracy: 0.9161\n",
            "Epoch 9/20\n",
            "18/18 [==============================] - 7s 376ms/step - loss: 0.4340 - accuracy: 0.8752 - val_loss: 0.2353 - val_accuracy: 0.9301\n",
            "Epoch 10/20\n",
            "18/18 [==============================] - 7s 383ms/step - loss: 0.3546 - accuracy: 0.9016 - val_loss: 0.2202 - val_accuracy: 0.9371\n",
            "Epoch 11/20\n",
            "18/18 [==============================] - 7s 393ms/step - loss: 0.3707 - accuracy: 0.8805 - val_loss: 0.2135 - val_accuracy: 0.9371\n",
            "Epoch 12/20\n",
            "18/18 [==============================] - 7s 377ms/step - loss: 0.3460 - accuracy: 0.8928 - val_loss: 0.1876 - val_accuracy: 0.9650\n",
            "Epoch 13/20\n",
            "18/18 [==============================] - 7s 370ms/step - loss: 0.2917 - accuracy: 0.9227 - val_loss: 0.1702 - val_accuracy: 0.9860\n",
            "Epoch 14/20\n",
            "18/18 [==============================] - 7s 383ms/step - loss: 0.3076 - accuracy: 0.9315 - val_loss: 0.1598 - val_accuracy: 0.9860\n",
            "Epoch 15/20\n",
            "18/18 [==============================] - 7s 380ms/step - loss: 0.3059 - accuracy: 0.9033 - val_loss: 0.1672 - val_accuracy: 0.9930\n",
            "Epoch 16/20\n",
            "18/18 [==============================] - 7s 372ms/step - loss: 0.2687 - accuracy: 0.9227 - val_loss: 0.1683 - val_accuracy: 0.9860\n",
            "Epoch 17/20\n",
            "18/18 [==============================] - 7s 377ms/step - loss: 0.2393 - accuracy: 0.9385 - val_loss: 0.1670 - val_accuracy: 0.9860\n",
            "Epoch 18/20\n",
            "18/18 [==============================] - 7s 381ms/step - loss: 0.2303 - accuracy: 0.9402 - val_loss: 0.1573 - val_accuracy: 0.9860\n",
            "Epoch 19/20\n",
            "18/18 [==============================] - 7s 384ms/step - loss: 0.2226 - accuracy: 0.9350 - val_loss: 0.1537 - val_accuracy: 0.9860\n",
            "Epoch 20/20\n",
            "18/18 [==============================] - 7s 380ms/step - loss: 0.2095 - accuracy: 0.9508 - val_loss: 0.1527 - val_accuracy: 0.9860\n",
            "Test loss: 0.1526973992586136\n",
            "Test accuracy: 0.9860140085220337\n"
          ],
          "name": "stdout"
        }
      ]
    },
    {
      "cell_type": "code",
      "metadata": {
        "id": "nWUl3_0t9vm6",
        "colab_type": "code",
        "outputId": "7c884b93-ea3c-4166-e479-e23a8154d6c3",
        "colab": {
          "base_uri": "https://localhost:8080/",
          "height": 34
        }
      },
      "source": [
        "MODEL_FILE_NAME = 'eroad_action_detection_resnet_10_epoch_augmentation_v3.h5'\n",
        "model.save(MODEL_FILE_NAME)\n",
        "shutil.copyfile(MODEL_FILE_NAME, DRIVE_PATH + 'model/'+ MODEL_FILE_NAME)"
      ],
      "execution_count": 43,
      "outputs": [
        {
          "output_type": "execute_result",
          "data": {
            "text/plain": [
              "'/content/drive/My Drive/colab/model/eroad_action_detection_resnet_10_epoch_augmentation_v3.h5'"
            ]
          },
          "metadata": {
            "tags": []
          },
          "execution_count": 43
        }
      ]
    },
    {
      "cell_type": "code",
      "metadata": {
        "id": "EM4g63Y_4fjG",
        "colab_type": "code",
        "colab": {}
      },
      "source": [
        "from IPython.display import display, Javascript\n",
        "from google.colab.output import eval_js\n",
        "from base64 import b64decode\n",
        "\n",
        "def take_photo(filename='photo.jpg', quality=0.8):\n",
        "  js = Javascript('''\n",
        "    async function takePhoto(quality) {\n",
        "      const div = document.createElement('div');\n",
        "      const capture = document.createElement('button');\n",
        "      capture.textContent = 'Capture';\n",
        "      div.appendChild(capture);\n",
        "\n",
        "      const video = document.createElement('video');\n",
        "      video.style.display = 'block';\n",
        "      const stream = await navigator.mediaDevices.getUserMedia({video: true});\n",
        "\n",
        "      document.body.appendChild(div);\n",
        "      div.appendChild(video);\n",
        "      video.srcObject = stream;\n",
        "      await video.play();\n",
        "\n",
        "      // Resize the output to fit the video element.\n",
        "      google.colab.output.setIframeHeight(document.documentElement.scrollHeight, true);\n",
        "\n",
        "      // Wait for Capture to be clicked.\n",
        "      await new Promise((resolve) => capture.onclick = resolve);\n",
        "\n",
        "      const canvas = document.createElement('canvas');\n",
        "      canvas.width = video.videoWidth;\n",
        "      canvas.height = video.videoHeight;\n",
        "      canvas.getContext('2d').drawImage(video, 0, 0);\n",
        "      stream.getVideoTracks()[0].stop();\n",
        "      div.remove();\n",
        "      return canvas.toDataURL('image/jpeg', quality);\n",
        "    }\n",
        "    ''')\n",
        "  display(js)\n",
        "  data = eval_js('takePhoto({})'.format(quality))\n",
        "  binary = b64decode(data.split(',')[1])\n",
        "  with open(filename, 'wb') as f:\n",
        "    f.write(binary)\n",
        "  return filename"
      ],
      "execution_count": 0,
      "outputs": []
    },
    {
      "cell_type": "code",
      "metadata": {
        "id": "BqOzo7864fhr",
        "colab_type": "code",
        "colab": {
          "base_uri": "https://localhost:8080/",
          "height": 565
        },
        "outputId": "a2562fd2-a2a0-45ee-ce68-cc4dd7c1ce4d"
      },
      "source": [
        "\n",
        "\n",
        "label_map = {\n",
        "    0: 'normal',\n",
        "    1: 'drinking',\n",
        "    2: 'phone_left',\n",
        "    3: 'phone_right',\n",
        "    4: 'text_left',\n",
        "    5: 'text_right'\n",
        "}\n",
        "\n",
        "from IPython.display import Image\n",
        "try:\n",
        "  filename = take_photo()\n",
        "  print('Saved to {}'.format(filename))\n",
        "  \n",
        "  #img = get_im_cv2(filename, IMAGE_WIDTH, IMAGE_HEIGHT)\n",
        "  img = get_center_roi(cv2.imread(filename))\n",
        "  img = imutils.resize(img, width=224)\n",
        "  x_predict=[]\n",
        "  x_predict.append(img)\n",
        "  x_predict = np.array(x_predict, dtype=np.uint8)\n",
        "  prediction = model.predict(x_predict);\n",
        "\n",
        "  label = np.argmax(prediction)\n",
        "\n",
        "  print(*prediction) \n",
        "  print(label)\n",
        "  print(\"Classified: %s\" % (label_map.get(label)))\n",
        "\n",
        "  # Show the image which was just taken.\n",
        "  display(Image(filename))\n",
        "except Exception as err:\n",
        "  # Errors will be thrown if the user does not have a webcam or if they do not\n",
        "  # grant the page permission to access it.\n",
        "  print(str(err))"
      ],
      "execution_count": 32,
      "outputs": [
        {
          "output_type": "display_data",
          "data": {
            "application/javascript": [
              "\n",
              "    async function takePhoto(quality) {\n",
              "      const div = document.createElement('div');\n",
              "      const capture = document.createElement('button');\n",
              "      capture.textContent = 'Capture';\n",
              "      div.appendChild(capture);\n",
              "\n",
              "      const video = document.createElement('video');\n",
              "      video.style.display = 'block';\n",
              "      const stream = await navigator.mediaDevices.getUserMedia({video: true});\n",
              "\n",
              "      document.body.appendChild(div);\n",
              "      div.appendChild(video);\n",
              "      video.srcObject = stream;\n",
              "      await video.play();\n",
              "\n",
              "      // Resize the output to fit the video element.\n",
              "      google.colab.output.setIframeHeight(document.documentElement.scrollHeight, true);\n",
              "\n",
              "      // Wait for Capture to be clicked.\n",
              "      await new Promise((resolve) => capture.onclick = resolve);\n",
              "\n",
              "      const canvas = document.createElement('canvas');\n",
              "      canvas.width = video.videoWidth;\n",
              "      canvas.height = video.videoHeight;\n",
              "      canvas.getContext('2d').drawImage(video, 0, 0);\n",
              "      stream.getVideoTracks()[0].stop();\n",
              "      div.remove();\n",
              "      return canvas.toDataURL('image/jpeg', quality);\n",
              "    }\n",
              "    "
            ],
            "text/plain": [
              "<IPython.core.display.Javascript object>"
            ]
          },
          "metadata": {
            "tags": []
          }
        },
        {
          "output_type": "stream",
          "text": [
            "Saved to photo.jpg\n",
            "[0.00413738 0.00210062 0.49949488 0.36918762 0.09413986 0.03093966]\n",
            "2\n",
            "Classified: phone_left\n"
          ],
          "name": "stdout"
        },
        {
          "output_type": "display_data",
          "data": {
            "image/jpeg": "[encoded data removed]",
            "text/plain": [
              "<IPython.core.display.Image object>"
            ]
          },
          "metadata": {
            "tags": []
          }
        }
      ]
    }
  ]
}