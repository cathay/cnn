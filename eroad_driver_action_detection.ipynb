{
  "nbformat": 4,
  "nbformat_minor": 0,
  "metadata": {
    "colab": {
      "name": "eroad_driver_action_detection.ipynb",
      "provenance": [],
      "collapsed_sections": [],
      "toc_visible": true,
      "machine_shape": "hm",
      "authorship_tag": "ABX9TyP3iQum2BWLBnUS4aE3nCtc",
      "include_colab_link": true
    },
    "kernelspec": {
      "name": "python3",
      "display_name": "Python 3"
    },
    "accelerator": "GPU"
  },
  "cells": [
    {
      "cell_type": "markdown",
      "metadata": {
        "id": "view-in-github",
        "colab_type": "text"
      },
      "source": [
        "<a href=\"https://colab.research.google.com/github/cathay/cnn/blob/master/eroad_driver_action_detection.ipynb\" target=\"_parent\"><img src=\"https://colab.research.google.com/assets/colab-badge.svg\" alt=\"Open In Colab\"/></a>"
      ]
    },
    {
      "cell_type": "code",
      "metadata": {
        "id": "0V7gtDzj3SbC",
        "colab_type": "code",
        "outputId": "fd2fb572-c7a7-4a95-e810-55b5c82d72c6",
        "colab": {
          "base_uri": "https://localhost:8080/",
          "height": 122
        }
      },
      "source": [
        "import os\n",
        "import zipfile\n",
        "import random\n",
        "import tensorflow as tf\n",
        "from shutil import copyfile\n",
        "import pandas as pd\n",
        "import numpy as np\n",
        "import cv2\n",
        "from sklearn.model_selection import train_test_split\n",
        "\n",
        "#Import Google drive functions\n",
        "from pydrive.auth import GoogleAuth\n",
        "from pydrive.drive import GoogleDrive\n",
        "from google.colab import auth\n",
        "from oauth2client.client import GoogleCredentials\n",
        "\n",
        "from google.colab import drive\n",
        "drive.mount('/content/drive')"
      ],
      "execution_count": 0,
      "outputs": [
        {
          "output_type": "stream",
          "text": [
            "Go to this URL in a browser: https://accounts.google.com/o/oauth2/auth?client_id=947318989803-6bn6qk8qdgf4n4g3pfee6491hc0brc4i.apps.googleusercontent.com&redirect_uri=urn%3aietf%3awg%3aoauth%3a2.0%3aoob&response_type=code&scope=email%20https%3a%2f%2fwww.googleapis.com%2fauth%2fdocs.test%20https%3a%2f%2fwww.googleapis.com%2fauth%2fdrive%20https%3a%2f%2fwww.googleapis.com%2fauth%2fdrive.photos.readonly%20https%3a%2f%2fwww.googleapis.com%2fauth%2fpeopleapi.readonly\n",
            "\n",
            "Enter your authorization code:\n",
            "··········\n",
            "Mounted at /content/drive\n"
          ],
          "name": "stdout"
        }
      ]
    },
    {
      "cell_type": "code",
      "metadata": {
        "id": "5LfaxDQkbLQb",
        "colab_type": "code",
        "colab": {}
      },
      "source": [
        "function KeepClicking(){\n",
        "   console.log(\"Clicking\");\n",
        "   document.querySelector(\"colab-toolbar-button#connect\").click()\n",
        "}setInterval(KeepClicking,60000)\n",
        "\n",
        "import shutil\n",
        "#shutil.rmtree('tmp')"
      ],
      "execution_count": 0,
      "outputs": []
    },
    {
      "cell_type": "code",
      "metadata": {
        "id": "mrQlkXh43lfu",
        "colab_type": "code",
        "colab": {}
      },
      "source": [
        "import shutil\n",
        "DRIVE_PATH = '/content/drive/My Drive/colab/'\n",
        "TRAIN_FILE = 'Thay_combine_data_car.zip'\n",
        "\n",
        "shutil.copyfile(DRIVE_PATH + TRAIN_FILE, TRAIN_FILE)\n",
        "\n",
        "zip_ref = zipfile.ZipFile(TRAIN_FILE, 'r')\n",
        "zip_ref.extractall('tmp')\n",
        "zip_ref.close()"
      ],
      "execution_count": 0,
      "outputs": []
    },
    {
      "cell_type": "code",
      "metadata": {
        "id": "pK5wiEKC3oFm",
        "colab_type": "code",
        "outputId": "c20d3823-878a-46c6-d53b-b56c76d7e698",
        "colab": {
          "base_uri": "https://localhost:8080/",
          "height": 51
        }
      },
      "source": [
        "from keras.utils import to_categorical\n",
        "import imutils\n",
        "import os.path\n",
        "\n",
        "TRAINING_DIR = 'tmp/data'\n",
        "IMAGE_WIDTH=224\n",
        "IMAGE_HEIGHT=224\n",
        "IMAGE_SIZE=(IMAGE_WIDTH, IMAGE_HEIGHT)\n",
        "IMAGE_CHANNELS=3\n",
        "\n",
        "def get_im_cv2(path, w, h):\n",
        "  return cv2.imread(path)\n",
        "  #return cv2.resize(img, (w,h), cv2.INTER_LINEAR) \n",
        "\n",
        "def get_center_roi(frame):\n",
        "    # get the Region of Interest (y,y)\n",
        "    height, width, channel = frame.shape\n",
        "    midpoint_x = int(width / 2.0)\n",
        "    midpoint_y = int(height / 2.0)\n",
        "    left_x = midpoint_x - midpoint_y\n",
        "    cropped = frame[0:height, left_x:width - left_x]\n",
        "    return cropped\n",
        "\n",
        "def to_resenet_input(path):\n",
        "  img = cv2.imread(path)\n",
        "  img = get_center_roi(img)\n",
        "  return imutils.resize(img, width=IMAGE_WIDTH, height=IMAGE_HEIGHT)\n",
        "\n",
        "files = []\n",
        "categories = []\n",
        "paths = []\n",
        "\n",
        "actions = {\n",
        "    'normal' : 0,\n",
        "    'phone': 1,\n",
        "    'texting': 2,\n",
        "    'drinking': 3\n",
        "}\n",
        "\n",
        "NUM_CLASSESS = len(actions.keys())\n",
        "\n",
        "for i in range(1,4):\n",
        "  for dir_name in actions.keys():\n",
        "    dir_path = \"%s_%s/%s\" % (TRAINING_DIR, i, dir_name)\n",
        "    if os.path.exists(dir_path) == True:\n",
        "      for file in os.listdir(dir_path):\n",
        "        if file.endswith('jpg'): #('.png', '.jpg', '.jpeg')\n",
        "          files.append(file)\n",
        "          categories.append(actions.get(dir_name))\n",
        "          paths.append(\"%s/%s\" %(dir_path, file))\n",
        "\n",
        "df = pd.DataFrame({'file': files,\n",
        "                   'category': categories,\n",
        "                   'path': paths\n",
        "                  })\n",
        "\n",
        "df['Y'] = df['category'].map(lambda x: to_categorical(x, NUM_CLASSESS, dtype='uint8'))\n",
        "#df['X'] = df['path'].map(lambda file: to_resenet_input(file))\n",
        "df['X'] = df['path'].map(lambda file: get_im_cv2(file, IMAGE_WIDTH, IMAGE_HEIGHT))\n",
        "#df.size\n",
        "print(\"files:%s, paths size: %s, df[X]size: %s, num_classes: %s\" % (len(files), len(paths), df['X'].size, NUM_CLASSESS))\n",
        "#df.sample(20, axis=None)"
      ],
      "execution_count": 0,
      "outputs": [
        {
          "output_type": "stream",
          "text": [
            "Using TensorFlow backend.\n"
          ],
          "name": "stderr"
        },
        {
          "output_type": "stream",
          "text": [
            "files:31380, paths size: 31380, df[X]size: 31380, num_classes: 4\n"
          ],
          "name": "stdout"
        }
      ]
    },
    {
      "cell_type": "code",
      "metadata": {
        "id": "sJpwW0rc9Eo6",
        "colab_type": "code",
        "colab": {}
      },
      "source": [
        "from keras.preprocessing.image import ImageDataGenerator\n",
        "train_df, validate_df = train_test_split(df, test_size=0.20, random_state=42)\n",
        "train_df = train_df.reset_index(drop=True)\n",
        "validate_df = validate_df.reset_index(drop=True)\n",
        "\n",
        "x_train = []\n",
        "x_test = []\n",
        "y_train = []\n",
        "y_test= []\n",
        "\n",
        "for item in train_df['X']:\n",
        "  x_train.append(item)\n",
        "\n",
        "for item in validate_df['X']:\n",
        "  x_test.append(item)\n",
        "\n",
        "for item in train_df['Y']:\n",
        "  y_train.append(item)\n",
        "\n",
        "for item in validate_df['Y']:\n",
        "  y_test.append(item)\n",
        "\n",
        "x_train = np.array(x_train, dtype=np.uint8)\n",
        "x_test = np.array(x_test, dtype=np.uint8)\n",
        "y_train = np.array(y_train, dtype=np.uint8)\n",
        "y_test = np.array(y_test, dtype=np.uint8)\n",
        "\n",
        "# datagen = ImageDataGenerator(\n",
        "#     featurewise_center=True,\n",
        "#     featurewise_std_normalization=True,\n",
        "#     rotation_range=20,\n",
        "#     width_shift_range=0.2,\n",
        "#     height_shift_range=0.2,\n",
        "#     horizontal_flip=True)\n",
        "\n",
        "# datagen.fit(x_train)"
      ],
      "execution_count": 0,
      "outputs": []
    },
    {
      "cell_type": "code",
      "metadata": {
        "id": "azzajTLp9K4E",
        "colab_type": "code",
        "outputId": "61c76408-015c-41f7-8c44-c4e9eb7c2916",
        "colab": {
          "base_uri": "https://localhost:8080/",
          "height": 445
        }
      },
      "source": [
        "#build model\n",
        "from tensorflow.python.keras.layers import Conv2D, MaxPooling2D, Dropout, Flatten, Dense, Activation, BatchNormalization\n",
        "from tensorflow.python.keras import Sequential\n",
        "from tensorflow.keras.optimizers import RMSprop, SGD\n",
        "from tensorflow.keras.applications.resnet50 import ResNet50\n",
        "\n",
        "import math\n",
        "\n",
        "#from keras.models import Sequential\n",
        "#from keras.layers import Conv2D, MaxPooling2D, Dropout, Flatten, Dense, Activation, BatchNormalization\n",
        "#from keras.optimizers import RMSprop, SGD\n",
        "#from keras.applications.resnet50 import ResNet50\n",
        "#from keras.applications.vgg16 import VGG16\n",
        "\n",
        "base_model = ResNet50(weights='imagenet', include_top=False, input_shape=(IMAGE_WIDTH, IMAGE_HEIGHT, IMAGE_CHANNELS))\n",
        "#base_model = VGG16(weights='imagenet', include_top=False, input_shape=(IMAGE_WIDTH, IMAGE_HEIGHT, IMAGE_CHANNELS))\n",
        "\n",
        "model = Sequential()\n",
        "model.add(base_model)\n",
        "\n",
        "model.add(Flatten())\n",
        "model.add(Dense(1024))\n",
        "model.add(BatchNormalization())\n",
        "model.add(Activation('relu'))\n",
        "model.add(Dropout(0.5))\n",
        "\n",
        "model.add(Dense(512))\n",
        "model.add(BatchNormalization())\n",
        "model.add(Activation('relu'))\n",
        "model.add(Dropout(0.5))\n",
        "model.add(Dense(NUM_CLASSESS, activation='softmax')) # \n",
        "\n",
        "for layer in base_model.layers:\n",
        "    layer.trainable = False\n",
        "\n",
        "#model.compile(loss='categorical_crossentropy', optimizer=RMSprop(lr=0.0001), metrics=['accuracy'])\n",
        "#model.compile(loss='categorical_crossentropy', optimizer='rmsprop', metrics=['accuracy'])\n",
        "model.compile(optimizer=SGD(lr=0.0001, momentum=0.9), loss='categorical_crossentropy', metrics=['accuracy'])\n",
        "\n",
        "#model.summary()\n",
        "\n",
        "## Train\n",
        "from keras.callbacks import EarlyStopping, ReduceLROnPlateau\n",
        "from keras.applications.vgg16 import preprocess_input\n",
        "\n",
        "earlystop = EarlyStopping(patience=5)\n",
        "learning_rate_reduction = ReduceLROnPlateau(monitor='val_acc', \n",
        "                                            patience=2, \n",
        "                                            verbose=1, \n",
        "                                            factor=0.5, \n",
        "                                            min_lr=0.0001)\n",
        "EPOCHS=10\n",
        "BATCH_SIZE=32\n",
        "callbacks = [learning_rate_reduction]\n",
        "\n",
        "history = model.fit(x_train, \n",
        "                    y_train,\n",
        "                    shuffle=True,\n",
        "                    batch_size=BATCH_SIZE,\n",
        "                    epochs=EPOCHS,\n",
        "                    verbose=1,\n",
        "                    validation_data=(x_test, y_test))\n",
        "                    #,callbacks=callbacks)\n",
        "\n",
        "#Should use fit\n",
        "# history = model.fit_generator(\n",
        "#     datagen.flow(x_train, y_train, batch_size=BATCH_SIZE),\n",
        "#     epochs=EPOCHS,\n",
        "#     shuffle=True,\n",
        "#     validation_data=(x_test, y_test),\n",
        "#     steps_per_epoch=math.ceil(len(x_train)/BATCH_SIZE) # can be optimized\n",
        "# )\n",
        "score = model.evaluate(x_test, y_test, verbose=0)\n",
        "print('Test loss:', score[0])\n",
        "print('Test accuracy:', score[1])"
      ],
      "execution_count": 0,
      "outputs": [
        {
          "output_type": "stream",
          "text": [
            "Downloading data from https://storage.googleapis.com/tensorflow/keras-applications/resnet/resnet50_weights_tf_dim_ordering_tf_kernels_notop.h5\n",
            "94773248/94765736 [==============================] - 1s 0us/step\n",
            "Epoch 1/10\n",
            "785/785 [==============================] - 61s 78ms/step - loss: 0.1582 - accuracy: 0.9522 - val_loss: 0.0187 - val_accuracy: 0.9971\n",
            "Epoch 2/10\n",
            "785/785 [==============================] - 60s 76ms/step - loss: 0.0414 - accuracy: 0.9911 - val_loss: 0.0079 - val_accuracy: 0.9989\n",
            "Epoch 3/10\n",
            "785/785 [==============================] - 60s 76ms/step - loss: 0.0254 - accuracy: 0.9957 - val_loss: 0.0049 - val_accuracy: 0.9995\n",
            "Epoch 4/10\n",
            "785/785 [==============================] - 60s 76ms/step - loss: 0.0186 - accuracy: 0.9969 - val_loss: 0.0031 - val_accuracy: 0.9998\n",
            "Epoch 5/10\n",
            "785/785 [==============================] - 60s 76ms/step - loss: 0.0151 - accuracy: 0.9978 - val_loss: 0.0023 - val_accuracy: 0.9998\n",
            "Epoch 6/10\n",
            "785/785 [==============================] - 60s 76ms/step - loss: 0.0132 - accuracy: 0.9980 - val_loss: 0.0019 - val_accuracy: 0.9998\n",
            "Epoch 7/10\n",
            "785/785 [==============================] - 60s 76ms/step - loss: 0.0111 - accuracy: 0.9982 - val_loss: 0.0016 - val_accuracy: 0.9998\n",
            "Epoch 8/10\n",
            "785/785 [==============================] - 60s 76ms/step - loss: 0.0093 - accuracy: 0.9988 - val_loss: 0.0014 - val_accuracy: 0.9998\n",
            "Epoch 9/10\n",
            "785/785 [==============================] - 60s 76ms/step - loss: 0.0085 - accuracy: 0.9990 - val_loss: 0.0011 - val_accuracy: 0.9998\n",
            "Epoch 10/10\n",
            "785/785 [==============================] - 60s 76ms/step - loss: 0.0082 - accuracy: 0.9991 - val_loss: 0.0011 - val_accuracy: 0.9998\n",
            "Test loss: 0.0010804467601701617\n",
            "Test accuracy: 0.9998406767845154\n"
          ],
          "name": "stdout"
        }
      ]
    },
    {
      "cell_type": "code",
      "metadata": {
        "id": "nWUl3_0t9vm6",
        "colab_type": "code",
        "outputId": "34fdab88-0d00-419f-b41d-92f03b28c81c",
        "colab": {
          "base_uri": "https://localhost:8080/",
          "height": 34
        }
      },
      "source": [
        "MODEL_FILE_NAME = 'eroad_action_detection_resnet_10_epoch_car_combine.h5'\n",
        "model.save(MODEL_FILE_NAME)\n",
        "shutil.copyfile(MODEL_FILE_NAME, DRIVE_PATH + 'model/'+ MODEL_FILE_NAME)"
      ],
      "execution_count": 0,
      "outputs": [
        {
          "output_type": "execute_result",
          "data": {
            "text/plain": [
              "'/content/drive/My Drive/colab/model/eroad_action_detection_resnet_10_epoch_car_combine.h5'"
            ]
          },
          "metadata": {
            "tags": []
          },
          "execution_count": 7
        }
      ]
    }
  ]
}